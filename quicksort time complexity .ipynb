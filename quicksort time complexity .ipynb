{
 "cells": [
  {
   "cell_type": "code",
   "execution_count": 15,
   "id": "ff696b3c",
   "metadata": {},
   "outputs": [],
   "source": [
    "import datetime\n",
    "import random\n"
   ]
  },
  {
   "cell_type": "code",
   "execution_count": 1,
   "id": "70e7ea1b",
   "metadata": {},
   "outputs": [],
   "source": [
    "def partition(start, end, array):\n",
    "      \n",
    "    # Initializing pivot's index to start\n",
    "    pivot_index = start \n",
    "    pivot = array[pivot_index]\n",
    "      \n",
    "    # This loop runs till start pointer crosses \n",
    "    # end pointer, and when it does we swap the\n",
    "    # pivot with element on end pointer\n",
    "    while start < end:\n",
    "          \n",
    "        # Increment the start pointer till it finds an \n",
    "        # element greater than  pivot \n",
    "        while start < len(array) and array[start] <= pivot:\n",
    "            start += 1\n",
    "              \n",
    "        # Decrement the end pointer till it finds an \n",
    "        # element less than pivot\n",
    "        while array[end] > pivot:\n",
    "            end -= 1\n",
    "          \n",
    "        # If start and end have not crossed each other, \n",
    "        # swap the numbers on start and end\n",
    "        if(start < end):\n",
    "            array[start], array[end] = array[end], array[start]\n",
    "      \n",
    "    # Swap pivot element with element on end pointer.\n",
    "    # This puts pivot on its correct sorted place.\n",
    "    array[end], array[pivot_index] = array[pivot_index], array[end]\n",
    "     \n",
    "    # Returning end pointer to divide the array into 2\n",
    "    return end\n",
    "      "
   ]
  },
  {
   "cell_type": "code",
   "execution_count": 2,
   "id": "c9c269d1",
   "metadata": {},
   "outputs": [],
   "source": [
    "# The main function that implements QuickSort \n",
    "def quick_sort(start, end, array):\n",
    "      \n",
    "    if (start < end):\n",
    "          \n",
    "        # p is partitioning index, array[p] \n",
    "        # is at right place\n",
    "        p = partition(start, end, array)\n",
    "          \n",
    "        # Sort elements before partition \n",
    "        # and after partition\n",
    "        quick_sort(start, p - 1, array)\n",
    "        quick_sort(p + 1, end, array)\n",
    "          "
   ]
  },
  {
   "cell_type": "code",
   "execution_count": 22,
   "id": "f83b927d",
   "metadata": {},
   "outputs": [],
   "source": [
    "# Driver code\n",
    "i = 1000\n",
    "time=[]\n",
    "N=[]\n",
    "while i< 10000000:\n",
    "    array = random.sample(range(i), i)\n",
    "\n",
    "    N.append(i)\n",
    "    start_time =  datetime.datetime.now()\n",
    "    quick_sort(0, len(array) - 1, array)\n",
    "    end_time =  datetime.datetime.now()\n",
    "    time_elapsed = (end_time - start_time)\n",
    "\n",
    "\n",
    "    #print(f'Sorted array: {array}')\n",
    "    time.append(int(time_elapsed.total_seconds() * 1000))\n",
    "    \n",
    "    i*=10\n",
    "\n",
    "# This code is contributed by Adnan Aliakbar\n",
    "# https://www.geeksforgeeks.org/quick-sort/\n",
    "# small adjadments were made by Eriny Wessa"
   ]
  },
  {
   "cell_type": "code",
   "execution_count": 26,
   "id": "d3695a0b",
   "metadata": {},
   "outputs": [
    {
     "data": {
      "image/png": "[encoded data removed]",
      "text/plain": [
       "<Figure size 432x288 with 1 Axes>"
      ]
     },
     "metadata": {
      "needs_background": "light"
     },
     "output_type": "display_data"
    }
   ],
   "source": [
    "# importing the required module\n",
    "import matplotlib.pyplot as plt\n",
    " \n",
    "# x axis values\n",
    "x = N\n",
    "# corresponding y axis values\n",
    "y =time\n",
    " \n",
    "# plotting the points\n",
    "plt.plot(x, y)\n",
    " \n",
    "# naming the x axis\n",
    "plt.xlabel('Proplem size')\n",
    "# naming the y axis\n",
    "plt.ylabel('computation time in millisecands')\n",
    " \n",
    "# giving a title to my graph\n",
    "plt.title('quick sort')\n",
    " \n",
    "# function to show the plot\n",
    "plt.show()"
   ]
  },
  {
   "cell_type": "code",
   "execution_count": null,
   "id": "7be69816",
   "metadata": {},
   "outputs": [],
   "source": []
  }
 ],
 "metadata": {
  "kernelspec": {
   "display_name": "Python 3",
   "language": "python",
   "name": "python3"
  },
  "language_info": {
   "codemirror_mode": {
    "name": "ipython",
    "version": 3
   },
   "file_extension": ".py",
   "mimetype": "text/x-python",
   "name": "python",
   "nbconvert_exporter": "python",
   "pygments_lexer": "ipython3",
   "version": "3.8.8"
  }
 },
 "nbformat": 4,
 "nbformat_minor": 5
}
