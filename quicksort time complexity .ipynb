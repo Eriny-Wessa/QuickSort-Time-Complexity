{
 "cells": [
  {
   "cell_type": "code",
   "execution_count": 15,
   "id": "add9a01d",
   "metadata": {},
   "outputs": [],
   "source": [
    "import datetime\n",
    "import random\n"
   ]
  },
  {
   "cell_type": "code",
   "execution_count": 1,
   "id": "3d64ac1b",
   "metadata": {},
   "outputs": [],
   "source": [
    "def partition(start, end, array):\n",
    "    pivot_index = start \n",
    "    pivot = array[pivot_index]\n",
    "    while start < end:\n",
    "        while start < len(array) and array[start] <= pivot:\n",
    "            start += 1\n",
    "        while array[end] > pivot:\n",
    "            end -= 1\n",
    "        if(start < end):\n",
    "            array[start], array[end] = array[end], array[start]\n",
    "    array[end], array[pivot_index] = array[pivot_index], array[end]\n",
    "    return end\n",
    "      "
   ]
  },
  {
   "cell_type": "code",
   "execution_count": 2,
   "id": "bd267d55",
   "metadata": {},
   "outputs": [],
   "source": [
    "def quick_sort(start, end, array):\n",
    "    if (start < end):\n",
    "        p = partition(start, end, array)\n",
    "        quick_sort(start, p - 1, array)\n",
    "        quick_sort(p + 1, end, array)\n",
    "          "
   ]
  },
  {
   "cell_type": "code",
   "execution_count": 22,
   "id": "266cf19b",
   "metadata": {},
   "outputs": [],
   "source": [
    "\n",
    "i = 1000\n",
    "time=[]\n",
    "N=[]\n",
    "while i< 10000000:\n",
    "    array = random.sample(range(i), i)\n",
    "\n",
    "    N.append(i)\n",
    "    start_time =  datetime.datetime.now()\n",
    "    quick_sort(0, len(array) - 1, array)\n",
    "    end_time =  datetime.datetime.now()\n",
    "    time_elapsed = (end_time - start_time)\n",
    "    time.append(int(time_elapsed.total_seconds() * 1000))\n",
    "    i*=10\n",
    "\n",
    "# This code is contributed by Adnan Aliakbar\n",
    "# https://www.geeksforgeeks.org/quick-sort/\n",
    "# small adjadments were made by Eriny Wessa"
   ]
  },
  {
   "cell_type": "code",
   "execution_count": 28,
   "id": "4a0b779f",
   "metadata": {},
   "outputs": [
    {
     "data": {
      "image/png": "[encoded data removed]",
      "text/plain": [
       "<Figure size 432x288 with 1 Axes>"
      ]
     },
     "metadata": {
      "needs_background": "light"
     },
     "output_type": "display_data"
    }
   ],
   "source": [
    "import matplotlib.pyplot as plt\n",
    "x = N\n",
    "y =time\n",
    "plt.plot(y, x)\n",
    "plt.xlabel('Proplem size')\n",
    "plt.ylabel('computation time in millisecands')\n",
    "plt.title('quick sort')\n",
    "plt.show()"
   ]
  },
  {
   "cell_type": "code",
   "execution_count": null,
   "id": "de2795e3",
   "metadata": {},
   "outputs": [],
   "source": []
  }
 ],
 "metadata": {
  "kernelspec": {
   "display_name": "Python 3",
   "language": "python",
   "name": "python3"
  },
  "language_info": {
   "codemirror_mode": {
    "name": "ipython",
    "version": 3
   },
   "file_extension": ".py",
   "mimetype": "text/x-python",
   "name": "python",
   "nbconvert_exporter": "python",
   "pygments_lexer": "ipython3",
   "version": "3.8.8"
  }
 },
 "nbformat": 4,
 "nbformat_minor": 5
}
